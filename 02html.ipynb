{
 "cells": [
  {
   "cell_type": "markdown",
   "metadata": {},
   "source": [
    "# a标签"
   ]
  },
  {
   "cell_type": "code",
   "execution_count": 2,
   "metadata": {},
   "outputs": [],
   "source": [
    "# DOM树结构：文档树\n",
    "#html:hyper text markup language:超级文本标记语言\n",
    "#body\n",
    "#div\n",
    "##h2\n",
    "##p\n",
    "##ul \n",
    "###li\n",
    "###a"
   ]
  },
  {
   "cell_type": "code",
   "execution_count": 4,
   "metadata": {},
   "outputs": [],
   "source": [
    "#html标签\n",
    "#格式： <标签名 属性=“值”>内容</标签名>"
   ]
  },
  {
   "cell_type": "markdown",
   "metadata": {},
   "source": [
    "<a>123</a>"
   ]
  },
  {
   "cell_type": "markdown",
   "metadata": {},
   "source": [
    "<a href='http://www.baidu.com'>This is a link</a>\n",
    "#href:跳转页面"
   ]
  },
  {
   "cell_type": "code",
   "execution_count": null,
   "metadata": {},
   "outputs": [],
   "source": [
    "表标签<table>"
   ]
  },
  {
   "cell_type": "code",
   "execution_count": 1,
   "metadata": {},
   "outputs": [
    {
     "data": {
      "text/plain": [
       "'333'"
      ]
     },
     "execution_count": 1,
     "metadata": {},
     "output_type": "execute_result"
    }
   ],
   "source": [
    "'3'*3"
   ]
  },
  {
   "cell_type": "markdown",
   "metadata": {},
   "source": [
    "# p标签\n",
    "#就是一段文字"
   ]
  },
  {
   "cell_type": "markdown",
   "metadata": {},
   "source": [
    "<p>this is a paragraph</p>"
   ]
  },
  {
   "cell_type": "markdown",
   "metadata": {},
   "source": [
    "# table标签"
   ]
  },
  {
   "cell_type": "markdown",
   "metadata": {},
   "source": [
    "<table> \n",
    "    <tr> \n",
    "        <td>row 1, cell 1</td>\n",
    "        <td>row 1, cell 2</td>\n",
    "    </tr> \n",
    "    <tr>\n",
    "        <td>row 2, cell 1</td>\n",
    "        <td>row 2, cell 2</td>\n",
    "    </tr>\n",
    "</table>\n"
   ]
  },
  {
   "cell_type": "markdown",
   "metadata": {},
   "source": [
    "# li标签\n",
    "#list列表标签"
   ]
  },
  {
   "cell_type": "markdown",
   "metadata": {},
   "source": [
    "<ul>\n",
    "    <li>Coffee</li>\n",
    "    <li>Milk</li>\n",
    "</ul>\n",
    "#ul 无序列表"
   ]
  },
  {
   "cell_type": "markdown",
   "metadata": {},
   "source": [
    "<ol>\n",
    "    <li>Coffee</li>\n",
    "    <li>Milk</li>\n",
    "</ol>\n",
    "#ol 有序列表"
   ]
  },
  {
   "cell_type": "markdown",
   "metadata": {},
   "source": [
    "# form标签\n",
    "#主要负责接受用户输入并发起请求\n",
    "#br 换行\n",
    "#input 输入栏\n",
    "#action：表单提交以后的动作"
   ]
  },
  {
   "cell_type": "markdown",
   "metadata": {},
   "source": [
    "<form action=\"/search\"> \n",
    "    First name:<br> \n",
    "    <input type=\"text\" name=\"firstname\" value=\"Mickey\"> <br>\n",
    "    Last name:<br> \n",
    "    <input type=\"password\" name=\"lastname\" value=\"Mouse\"> <br>\n",
    "    <input type=\"submit\" value=\"Submit\">\n",
    "</form> "
   ]
  },
  {
   "cell_type": "markdown",
   "metadata": {},
   "source": [
    "# 综合"
   ]
  },
  {
   "cell_type": "markdown",
   "metadata": {},
   "source": [
    "<html>\n",
    "    <body>\n",
    "        <div id=\"songs-list\">\n",
    "            <h2 class=\"title\">经典老歌</h2>\n",
    "            <p class=\"introduction\">\n",
    "                经典老歌列表\n",
    "            </p>\n",
    "            <ul id=\"list\" class=\"list-group\">\n",
    "                <li data-view=\"2\">一路上有你</li>\n",
    "                <li data-view=\"7\">\n",
    "                    <a href=\"/2.mp3\" singer=\"任贤齐\">沧海一声笑</a>\n",
    "                </li>\n",
    "                <li data-view=\"4\" class=\"active\">\n",
    "                    <a href=\"/3.mp3\" singer=\"齐秦\">往事随风</a>\n",
    "                </li>\n",
    "                <li data-view=\"6\"><a href=\"/4.mp3\" singer=\"beyond\">光辉岁月</a></li>\n",
    "                <li data-view=\"5\"><a href=\"/5.mp3\" singer=\"陈慧琳\">记事本</a></li>\n",
    "                <li data-view=\"5\">\n",
    "                    <a href=\"/6.mp3\" singer=\"邓丽君\">但愿人长久</a>\n",
    "                </li>\n",
    "            </ul>\n",
    "        </div>\n",
    "     </body>\n",
    "</html>"
   ]
  },
  {
   "cell_type": "markdown",
   "metadata": {},
   "source": [
    "<html>\n",
    "    <body>\n",
    "        <div id=\"songs-list\">\n",
    "            <h2 class=\"title\">经典老歌</h2>\n",
    "            <p class=\"introduction\">经典老歌列表</p>\n",
    "            <ul id=\"list\" class=\"list-group\">\n",
    "                <li data-view=\"7\">\n",
    "                    <a href=\"/2.mp3\" singer=\"任贤齐\">沧海一声笑</a>\n",
    "                </li>\n",
    "                <li data-view=\"4\" class=\"active\">\n",
    "                    <a href=\"/3.mp3\" singer=\"齐秦\">往事随风</a>\n",
    "                </li>\n",
    "            </ul>\n",
    "        </div>\n",
    "     </body>\n",
    "</html>"
   ]
  },
  {
   "cell_type": "markdown",
   "metadata": {},
   "source": [
    "# 块\n",
    "#div"
   ]
  },
  {
   "cell_type": "markdown",
   "metadata": {},
   "source": [
    "<div>\n",
    "    <h1>head</h1>\n",
    "    <p>paragraph</p>\n",
    "</div>"
   ]
  },
  {
   "cell_type": "markdown",
   "metadata": {},
   "source": [
    "# 样式"
   ]
  },
  {
   "cell_type": "markdown",
   "metadata": {},
   "source": [
    "<p style=\"color: red\"> red </p>\n",
    "<p style=\"color: green\">green </p>\n"
   ]
  },
  {
   "cell_type": "markdown",
   "metadata": {},
   "source": [
    "# 居中一段内容\n",
    "#注意居中div和p都要写：text_aline:center"
   ]
  },
  {
   "cell_type": "markdown",
   "metadata": {},
   "source": [
    "<div style=\"text-align:center\"> \n",
    "    <p style=\"color: red;text-align:center\"> red </p>\n",
    "    <p style=\"color: green;text-align:center\">green </p>\n",
    "</div>"
   ]
  },
  {
   "cell_type": "code",
   "execution_count": 7,
   "metadata": {},
   "outputs": [],
   "source": [
    "#HTML 负责内容\n",
    "#CSS(Cascading Style Sheets)负责样式\n",
    "#JS （Java Script）负责相应的操作"
   ]
  },
  {
   "cell_type": "code",
   "execution_count": null,
   "metadata": {},
   "outputs": [],
   "source": [
    "#URL\n",
    "#基本格式：scheme://host[;port]/path[?query-string][#anchor]\n",
    "#scheme: 协议（http，https）\n",
    "#host：服务器的IP地址或者域名\n",
    "#port：服务器端口\n",
    "#path：访问资源的路径\n",
    "#query-string:参数，发送给http服务器的数据\n",
    "#anchor：锚\n",
    "#e.g.https://www.baidu.com/s?wd=python\n",
    "#DNS原理： domain name system 域名系统原理"
   ]
  },
  {
   "cell_type": "code",
   "execution_count": 8,
   "metadata": {},
   "outputs": [],
   "source": [
    "#http请求\n",
    "#头：描述性信息 (headers)\n",
    "#体：具体内容 ()\n",
    "#Get请求\n",
    "#从服务器上获取数据\n",
    "#get请求的参数是URL的一部分\n",
    "#Post请求\n",
    "#向服务器传送数据\n",
    "#消息长度没有限制且以隐式方式进行发送\n",
    "#请求的参数包含在content-Type消息头里，指明该消息体的媒体类型和编码\n",
    "#tips：避免使用Get方式提交表单，因为输入的用户名和密码将在地址栏中暴露无遗。"
   ]
  },
  {
   "cell_type": "code",
   "execution_count": 9,
   "metadata": {},
   "outputs": [],
   "source": [
    "#错误码\n",
    "#2xx: 正常\n",
    "#3xx：重定向\n",
    "#4xx：客户端错误\n",
    "#5xx：服务器错误"
   ]
  },
  {
   "cell_type": "code",
   "execution_count": null,
   "metadata": {},
   "outputs": [],
   "source": []
  }
 ],
 "metadata": {
  "kernelspec": {
   "display_name": "Python 3",
   "language": "python",
   "name": "python3"
  },
  "language_info": {
   "codemirror_mode": {
    "name": "ipython",
    "version": 3
   },
   "file_extension": ".py",
   "mimetype": "text/x-python",
   "name": "python",
   "nbconvert_exporter": "python",
   "pygments_lexer": "ipython3",
   "version": "3.7.3"
  }
 },
 "nbformat": 4,
 "nbformat_minor": 2
}
