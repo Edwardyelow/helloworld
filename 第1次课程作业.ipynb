{
 "cells": [
  {
   "cell_type": "markdown",
   "metadata": {},
   "source": [
    "（3）'='和'=='分别表示什么含义？print(2==5)输出什么结果？属于什么类型数据？"
   ]
  },
  {
   "cell_type": "code",
   "execution_count": 7,
   "metadata": {},
   "outputs": [
    {
     "name": "stdout",
     "output_type": "stream",
     "text": [
      "False\n"
     ]
    }
   ],
   "source": [
    "#= 赋值\n",
    "#== 比较运算\n",
    "#False; bool\n",
    "print(2==5)"
   ]
  },
  {
   "cell_type": "markdown",
   "metadata": {},
   "source": [
    "（4）dog = [\"tom\", \"cat\", \"Alice\", \"Bob\"], dog_single = \"tom\", 如何判断 dog_single 是否是 dog 中的一员?"
   ]
  },
  {
   "cell_type": "code",
   "execution_count": 9,
   "metadata": {},
   "outputs": [
    {
     "name": "stdout",
     "output_type": "stream",
     "text": [
      "False\n"
     ]
    }
   ],
   "source": [
    "dog = [\"tom\", \"cat\", \"Alice\", \"Bob\"]\n",
    "print('dog_single'in 'dog')"
   ]
  },
  {
   "cell_type": "markdown",
   "metadata": {},
   "source": [
    "（5）L=['silver',10,12856,125,'kitty','isafds',124,'qpalzm'],利用循环语句和判断条件，分别输出列表中的字符串和数字。"
   ]
  },
  {
   "cell_type": "code",
   "execution_count": 2,
   "metadata": {},
   "outputs": [],
   "source": [
    "L=['silver',10,12856,125,'kitty','isafds',124,'qpalzm']\n",
    "str_list=[]\n",
    "int_list=[]\n",
    "for i in L:\n",
    "    if isinstance(i,int):\n",
    "        int_list.append(i)\n",
    "    else:\n",
    "        str_list.append(i)"
   ]
  },
  {
   "cell_type": "code",
   "execution_count": 3,
   "metadata": {},
   "outputs": [
    {
     "data": {
      "text/plain": [
       "['silver', 'kitty', 'isafds', 'qpalzm']"
      ]
     },
     "execution_count": 3,
     "metadata": {},
     "output_type": "execute_result"
    }
   ],
   "source": [
    "str_list"
   ]
  },
  {
   "cell_type": "code",
   "execution_count": 4,
   "metadata": {},
   "outputs": [
    {
     "data": {
      "text/plain": [
       "[10, 12856, 125, 124]"
      ]
     },
     "execution_count": 4,
     "metadata": {},
     "output_type": "execute_result"
    }
   ],
   "source": [
    "int_list"
   ]
  },
  {
   "cell_type": "markdown",
   "metadata": {},
   "source": [
    "（6）编写程序计算1 + 2 + 3 + … + 50的值<br> 提示：使用range(51)函数生成从 0-50 个数的列表"
   ]
  },
  {
   "cell_type": "code",
   "execution_count": 5,
   "metadata": {},
   "outputs": [
    {
     "data": {
      "text/plain": [
       "1275"
      ]
     },
     "execution_count": 5,
     "metadata": {},
     "output_type": "execute_result"
    }
   ],
   "source": [
    "a = range(51)\n",
    "aha=[]\n",
    "for i in a:\n",
    "    aha.append(i)\n",
    "aha[-1:]\n",
    "total=0\n",
    "for i in aha:\n",
    "    total += i\n",
    "total"
   ]
  },
  {
   "cell_type": "markdown",
   "metadata": {},
   "source": [
    "（7）Alice有一个长长的访客名单，存储在一个list中，可以理解为这样：<br>\n",
    "guest = \\[‘Bob’, ‘Cathy’, ‘Donald’, ‘Eric’\\]<br>\n",
    "现在Alice想要将这个名单打印出来，格式如下：\n",
    "1.\tBob\n",
    "2.\tCathy\n",
    "3.\tDonald\n",
    "4.\tEric<br>\n",
    "请编写python程序解决她的问题"
   ]
  },
  {
   "cell_type": "code",
   "execution_count": 6,
   "metadata": {},
   "outputs": [
    {
     "name": "stdout",
     "output_type": "stream",
     "text": [
      "1.Bob\n",
      "2.Cathy\n",
      "3.Donald\n",
      "4.Eric\n"
     ]
    }
   ],
   "source": [
    "guest=['Bob','Cathy','Donald','Eric']\n",
    "mark = 1\n",
    "for i in guest:\n",
    "    print(str(mark)+'.'+i)\n",
    "    mark += 1"
   ]
  }
 ],
 "metadata": {
  "kernelspec": {
   "display_name": "Python 3",
   "language": "python",
   "name": "python3"
  },
  "language_info": {
   "codemirror_mode": {
    "name": "ipython",
    "version": 3
   },
   "file_extension": ".py",
   "mimetype": "text/x-python",
   "name": "python",
   "nbconvert_exporter": "python",
   "pygments_lexer": "ipython3",
   "version": "3.7.3"
  }
 },
 "nbformat": 4,
 "nbformat_minor": 2
}
