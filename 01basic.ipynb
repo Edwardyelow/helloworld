{
 "cells": [
  {
   "cell_type": "markdown",
   "metadata": {},
   "source": [
    "# 0.注释"
   ]
  },
  {
   "cell_type": "markdown",
   "metadata": {},
   "source": [
    "# 1.常量"
   ]
  },
  {
   "cell_type": "markdown",
   "metadata": {},
   "source": [
    "# 2.变量\n",
    "#### 命名规则：以字母或下划线开头，后续只能包含字母，数字或下划线。最好能够表意"
   ]
  },
  {
   "cell_type": "markdown",
   "metadata": {},
   "source": [
    "### 问题：以下5个命名那些是正确的，哪些是错误的"
   ]
  },
  {
   "cell_type": "markdown",
   "metadata": {},
   "source": [
    "# 3.操作符"
   ]
  },
  {
   "cell_type": "code",
   "execution_count": 2,
   "metadata": {},
   "outputs": [
    {
     "name": "stdout",
     "output_type": "stream",
     "text": [
      "1\n",
      "2\n"
     ]
    }
   ],
   "source": [
    "# % 取余数操作符\n",
    "print(5 % 2)\n",
    "# //  取商操作符\n",
    "print(5 // 2)"
   ]
  },
  {
   "cell_type": "code",
   "execution_count": 7,
   "metadata": {},
   "outputs": [
    {
     "name": "stdout",
     "output_type": "stream",
     "text": [
      "False\n"
     ]
    }
   ],
   "source": [
    "# in 归属操作符\n",
    "print('ac' in 'abcd')"
   ]
  },
  {
   "cell_type": "markdown",
   "metadata": {},
   "source": [
    "# 3.类型和编码\n",
    "<h3>编码指字符串的翻译方式</h3>"
   ]
  },
  {
   "cell_type": "code",
   "execution_count": 11,
   "metadata": {},
   "outputs": [
    {
     "name": "stdout",
     "output_type": "stream",
     "text": [
      "<class 'int'>\n",
      "<class 'str'>\n",
      "<class 'float'>\n"
     ]
    }
   ],
   "source": [
    "# 类型\n",
    "print(type(1)) # integer\n",
    "print(type('1')) # string\n",
    "print(type(1.0)) # float"
   ]
  },
  {
   "cell_type": "code",
   "execution_count": 2,
   "metadata": {},
   "outputs": [
    {
     "name": "stdout",
     "output_type": "stream",
     "text": [
      "b'\\xd6\\xd0\\xce\\xc4'\n"
     ]
    }
   ],
   "source": [
    "# 编码：如何解释一个字符串\n",
    "chinese = \"中文\"\n",
    "#python中默认编码类型是unicode\n",
    "print(chinese.encode(\"gbk\"))\n",
    "#字节流"
   ]
  },
  {
   "cell_type": "code",
   "execution_count": 4,
   "metadata": {},
   "outputs": [
    {
     "name": "stdout",
     "output_type": "stream",
     "text": [
      "中文\n",
      "<class 'bytes'>\n"
     ]
    }
   ],
   "source": [
    "s=chinese.encode(\"utf-8\").decode(\"utf-8\") #decode 解码 需要用同一套\n",
    "print(s)\n",
    "print(type(chinese.encode(\"gbk\")))"
   ]
  },
  {
   "cell_type": "markdown",
   "metadata": {},
   "source": [
    "# 4.顺序、判断与循环"
   ]
  },
  {
   "cell_type": "markdown",
   "metadata": {},
   "source": [
    "# 5.函数调用与包"
   ]
  },
  {
   "cell_type": "code",
   "execution_count": 1,
   "metadata": {},
   "outputs": [
    {
     "name": "stdout",
     "output_type": "stream",
     "text": [
      "True\n",
      "False\n"
     ]
    }
   ],
   "source": [
    "# isinstance 判断类型函数\n",
    "print(isinstance(1, int))\n",
    "print(isinstance(1, str))"
   ]
  },
  {
   "cell_type": "markdown",
   "metadata": {},
   "source": [
    "# 6.基础数据结构"
   ]
  },
  {
   "cell_type": "markdown",
   "metadata": {},
   "source": [
    "## list\n",
    "#### 简单的线性结构，用来保存一组数据"
   ]
  },
  {
   "cell_type": "code",
   "execution_count": 34,
   "metadata": {},
   "outputs": [
    {
     "name": "stdout",
     "output_type": "stream",
     "text": [
      "0:1\n",
      "1:2\n",
      "2:10\n",
      "3:5\n",
      "4:1\n",
      "5:6\n",
      "6:3\n"
     ]
    }
   ],
   "source": [
    "# 再来看一下下标与元素之间的关系\n",
    "# 注意类型！\n",
    "mark = 0\n",
    "for item in test_list:\n",
    "    print(str(mark) + ':' + str(item))\n",
    "    mark += 1"
   ]
  },
  {
   "cell_type": "markdown",
   "metadata": {},
   "source": [
    "## set \n",
    "#### 一种元素不重复的结构，主要用来过滤重复元素"
   ]
  },
  {
   "cell_type": "code",
   "execution_count": 35,
   "metadata": {},
   "outputs": [
    {
     "name": "stdout",
     "output_type": "stream",
     "text": [
      "{1, 2, 3, 4, 5}\n"
     ]
    }
   ],
   "source": [
    "# 创建\n",
    "test_set = {1,2,3,4,5,1}\n",
    "print(test_set)"
   ]
  },
  {
   "cell_type": "code",
   "execution_count": 38,
   "metadata": {},
   "outputs": [],
   "source": [
    "# 删除\n",
    "test_set.remove(1)"
   ]
  },
  {
   "cell_type": "code",
   "execution_count": 39,
   "metadata": {},
   "outputs": [
    {
     "name": "stdout",
     "output_type": "stream",
     "text": [
      "{2, 3, 4, 5, 6}\n"
     ]
    }
   ],
   "source": [
    "print(test_set)"
   ]
  },
  {
   "cell_type": "markdown",
   "metadata": {},
   "source": [
    "## dict\n",
    "#### 存储key-value格式的数据，key不能重复\n",
    "#### 实际上和函数映射是一个意思，一个x对应一个y"
   ]
  },
  {
   "cell_type": "code",
   "execution_count": 41,
   "metadata": {},
   "outputs": [
    {
     "name": "stdout",
     "output_type": "stream",
     "text": [
      "{'id': '1', 'name': 'silver', 'age': '123'}\n"
     ]
    }
   ],
   "source": [
    "# 创建\n",
    "test_dict = {'id':'1','name':'silver','age':'123'}\n",
    "# {'key':'value', 'key':'value'}\n",
    "print(test_dict)"
   ]
  },
  {
   "cell_type": "code",
   "execution_count": 42,
   "metadata": {},
   "outputs": [
    {
     "name": "stdout",
     "output_type": "stream",
     "text": [
      "{'id': '1', 'name': 'silver', 'age': '123'}\n",
      "{'id': '1', 'name': 'silver', 'age': '123', 'gender': 'male'}\n"
     ]
    }
   ],
   "source": [
    "# 增加\n",
    "print(test_dict)\n",
    "test_dict['gender'] = 'male'\n",
    "print(test_dict)"
   ]
  },
  {
   "cell_type": "code",
   "execution_count": 43,
   "metadata": {},
   "outputs": [
    {
     "name": "stdout",
     "output_type": "stream",
     "text": [
      "{'id': '1', 'name': 'silver', 'age': '123', 'gender': 'female'}\n"
     ]
    }
   ],
   "source": [
    "# 覆盖\n",
    "test_dict['gender'] = 'female'\n",
    "print(test_dict)"
   ]
  },
  {
   "cell_type": "code",
   "execution_count": 44,
   "metadata": {},
   "outputs": [
    {
     "name": "stdout",
     "output_type": "stream",
     "text": [
      "{'id': '1', 'name': 'silver', 'age': '123'}\n"
     ]
    }
   ],
   "source": [
    "# 删除\n",
    "test_dict.pop('gender')\n",
    "print(test_dict)"
   ]
  },
  {
   "cell_type": "code",
   "execution_count": 45,
   "metadata": {},
   "outputs": [
    {
     "name": "stdout",
     "output_type": "stream",
     "text": [
      "id,1\n",
      "name,silver\n",
      "age,123\n"
     ]
    }
   ],
   "source": [
    "# 遍历\n",
    "for key in test_dict:\n",
    "    print(key + \",\" + test_dict[key])"
   ]
  },
  {
   "cell_type": "code",
   "execution_count": 46,
   "metadata": {},
   "outputs": [
    {
     "name": "stdout",
     "output_type": "stream",
     "text": [
      "2\n"
     ]
    }
   ],
   "source": [
    "# 修改\n",
    "test_dict['id'] = 2\n",
    "print(test_dict['id'])"
   ]
  },
  {
   "cell_type": "code",
   "execution_count": null,
   "metadata": {},
   "outputs": [],
   "source": []
  }
 ],
 "metadata": {
  "kernelspec": {
   "display_name": "Python 3",
   "language": "python",
   "name": "python3"
  },
  "language_info": {
   "codemirror_mode": {
    "name": "ipython",
    "version": 3
   },
   "file_extension": ".py",
   "mimetype": "text/x-python",
   "name": "python",
   "nbconvert_exporter": "python",
   "pygments_lexer": "ipython3",
   "version": "3.7.3"
  }
 },
 "nbformat": 4,
 "nbformat_minor": 2
}
